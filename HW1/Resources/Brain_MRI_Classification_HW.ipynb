{
 "cells": [
  {
   "cell_type": "markdown",
   "metadata": {},
   "source": [
    "<div dir=ltr align=center>In the name of God</div>\n",
    "<br>\n",
    "<font size=6><div dir=ltr align=center>\n",
    "<font size=5>\n",
    "Intelligent Analysis of\n",
    "Biomedical Images\n",
    "<br>\n",
    "<font size=4>\n",
    "sharif university of technology, CE department\n",
    "</font>\n",
    "<br>\n",
    "<br>\n",
    "<font size=6>\n",
    "Homework 1.2\n",
    "</font><br>\n",
    "<font size=4>\n",
    "Deep learning method\n",
    "</font>"
   ]
  },
  {
   "cell_type": "markdown",
   "metadata": {},
   "source": [
    "**First-Name:**\n",
    "\n",
    "**Last-Name:**\n",
    "\n",
    "**Student-Id:**"
   ]
  },
  {
   "cell_type": "markdown",
   "metadata": {
    "id": "Wq7S5-9-nWsk"
   },
   "source": [
    "# Download Data"
   ]
  },
  {
   "cell_type": "markdown",
   "metadata": {
    "id": "39PU4EQ-1vH3"
   },
   "source": [
    "##### Execute the cell below to download the data required for your homework."
   ]
  },
  {
   "cell_type": "code",
   "execution_count": null,
   "metadata": {
    "execution": {
     "iopub.execute_input": "2023-10-04T15:47:32.931160Z",
     "iopub.status.busy": "2023-10-04T15:47:32.930819Z",
     "iopub.status.idle": "2023-10-04T15:47:42.287360Z",
     "shell.execute_reply": "2023-10-04T15:47:42.286208Z",
     "shell.execute_reply.started": "2023-10-04T15:47:32.931117Z"
    }
   },
   "outputs": [],
   "source": [
    "! pip install gdown"
   ]
  },
  {
   "cell_type": "code",
   "execution_count": null,
   "metadata": {
    "colab": {
     "base_uri": "https://localhost:8080/",
     "height": 109
    },
    "execution": {
     "iopub.execute_input": "2023-10-04T15:47:42.290176Z",
     "iopub.status.busy": "2023-10-04T15:47:42.289475Z",
     "iopub.status.idle": "2023-10-04T15:47:50.130238Z",
     "shell.execute_reply": "2023-10-04T15:47:50.129349Z",
     "shell.execute_reply.started": "2023-10-04T15:47:42.290122Z"
    },
    "id": "5_T61uHlCcXi",
    "outputId": "584ac21c-eb4f-4005-b422-6c0f29868ccc"
   },
   "outputs": [],
   "source": [
    "import gdown\n",
    "\n",
    "url = 'https://drive.google.com/uc?id=1-2zT-_bKjN2o2QxwSviFwbCzcWE2PnkJ'\n",
    "\n",
    "output = 'dataset.zip'\n",
    "gdown.download(url, output, quiet=False)"
   ]
  },
  {
   "cell_type": "code",
   "execution_count": null,
   "metadata": {
    "colab": {
     "base_uri": "https://localhost:8080/"
    },
    "execution": {
     "iopub.execute_input": "2023-10-04T15:47:50.133013Z",
     "iopub.status.busy": "2023-10-04T15:47:50.132127Z",
     "iopub.status.idle": "2023-10-04T15:48:01.652881Z",
     "shell.execute_reply": "2023-10-04T15:48:01.651820Z",
     "shell.execute_reply.started": "2023-10-04T15:47:50.132973Z"
    },
    "id": "QVR5Mcu0bN2u",
    "outputId": "0d721b34-23d8-4370-a725-8042c2cac111"
   },
   "outputs": [],
   "source": [
    "! unzip dataset.zip"
   ]
  },
  {
   "cell_type": "markdown",
   "metadata": {
    "id": "9RO905MEDJNB"
   },
   "source": [
    "# Import"
   ]
  },
  {
   "cell_type": "code",
   "execution_count": null,
   "metadata": {
    "execution": {
     "iopub.execute_input": "2023-10-04T15:48:01.655659Z",
     "iopub.status.busy": "2023-10-04T15:48:01.655311Z",
     "iopub.status.idle": "2023-10-04T15:48:05.889161Z",
     "shell.execute_reply": "2023-10-04T15:48:05.888051Z",
     "shell.execute_reply.started": "2023-10-04T15:48:01.655621Z"
    },
    "id": "dRwGoerdh5m6"
   },
   "outputs": [],
   "source": [
    "import os\n",
    "import numpy as np\n",
    "import seaborn as sns\n",
    "import zipfile\n",
    "import pandas as pd\n",
    "import matplotlib.pyplot as plt\n",
    "import cv2\n",
    "from skimage import io\n",
    "import torch\n",
    "import random\n",
    "import pandas as pd\n",
    "import random\n",
    "import glob\n",
    "from sklearn.preprocessing import StandardScaler, normalize\n",
    "from IPython.display import display"
   ]
  },
  {
   "cell_type": "markdown",
   "metadata": {
    "id": "0aTXVz_xDSiV"
   },
   "source": [
    "# Config"
   ]
  },
  {
   "cell_type": "code",
   "execution_count": null,
   "metadata": {
    "execution": {
     "iopub.execute_input": "2023-10-04T15:48:05.891839Z",
     "iopub.status.busy": "2023-10-04T15:48:05.890846Z",
     "iopub.status.idle": "2023-10-04T15:48:05.902504Z",
     "shell.execute_reply": "2023-10-04T15:48:05.901441Z",
     "shell.execute_reply.started": "2023-10-04T15:48:05.891807Z"
    },
    "id": "gA5mk3c3DRc7"
   },
   "outputs": [],
   "source": [
    "\n",
    "RANDOM_SEED = 42 # Must be used wherever can be used\n",
    "\n",
    "torch.manual_seed(RANDOM_SEED)\n",
    "random.seed(RANDOM_SEED)\n",
    "np.random.seed(RANDOM_SEED)"
   ]
  },
  {
   "cell_type": "code",
   "execution_count": null,
   "metadata": {
    "colab": {
     "base_uri": "https://localhost:8080/"
    },
    "execution": {
     "iopub.execute_input": "2023-10-04T15:48:05.909732Z",
     "iopub.status.busy": "2023-10-04T15:48:05.907121Z",
     "iopub.status.idle": "2023-10-04T15:48:05.960266Z",
     "shell.execute_reply": "2023-10-04T15:48:05.959096Z",
     "shell.execute_reply.started": "2023-10-04T15:48:05.909695Z"
    },
    "id": "UIf7poDjAsch",
    "outputId": "11703ed5-b1c8-41d5-9ce3-b55665cdf1f4"
   },
   "outputs": [],
   "source": [
    "device = torch.device('cuda' if torch.cuda.is_available() else 'cpu')\n",
    "device"
   ]
  },
  {
   "cell_type": "markdown",
   "metadata": {
    "id": "gGWuFGl_Dd9G"
   },
   "source": [
    "# Load and Process Data"
   ]
  },
  {
   "cell_type": "markdown",
   "metadata": {
    "id": "5f-315mh2Hcf"
   },
   "source": [
    "##### This dataset contains brain MRI images and manual FLAIR abnormality segmentation masks, where each pixel value of masks indicates the presence or absence of cancer (0 and 1, respectively). The images correspond to 110 patients whose IDs are available in the patient_ids.csv file.\n"
   ]
  },
  {
   "cell_type": "code",
   "execution_count": null,
   "metadata": {
    "colab": {
     "base_uri": "https://localhost:8080/"
    },
    "execution": {
     "iopub.execute_input": "2023-10-04T15:48:05.962189Z",
     "iopub.status.busy": "2023-10-04T15:48:05.961808Z",
     "iopub.status.idle": "2023-10-04T15:48:06.005810Z",
     "shell.execute_reply": "2023-10-04T15:48:06.004775Z",
     "shell.execute_reply.started": "2023-10-04T15:48:05.962154Z"
    },
    "id": "RSPtAjCIkEHu",
    "outputId": "0ac151f1-504d-46ef-901e-04f428574c6e"
   },
   "outputs": [],
   "source": [
    "data = pd.read_csv('patient_ids.csv')\n",
    "data.info()"
   ]
  },
  {
   "cell_type": "code",
   "execution_count": null,
   "metadata": {
    "colab": {
     "base_uri": "https://localhost:8080/",
     "height": 206
    },
    "execution": {
     "iopub.execute_input": "2023-10-04T15:48:06.013024Z",
     "iopub.status.busy": "2023-10-04T15:48:06.010456Z",
     "iopub.status.idle": "2023-10-04T15:48:06.033490Z",
     "shell.execute_reply": "2023-10-04T15:48:06.031168Z",
     "shell.execute_reply.started": "2023-10-04T15:48:06.012985Z"
    },
    "id": "Vfv5-LWm8GV6",
    "outputId": "650d425b-5e98-48ac-cd38-6a485a49c6a5"
   },
   "outputs": [],
   "source": [
    "data.head()"
   ]
  },
  {
   "cell_type": "markdown",
   "metadata": {
    "id": "i9UA10CzDpa_"
   },
   "source": [
    "\n",
    "### **Exercise 1 (5 points)**:\n",
    "\n",
    "##### Please use the patient_ids.csv file and the images inside the mri_scans folder to generate a Pandas dataframe named mri_df. This dataframe should have columns labeled \"patient_id\", \"image_path\", and \"mask_path\"."
   ]
  },
  {
   "cell_type": "code",
   "execution_count": null,
   "metadata": {
    "colab": {
     "base_uri": "https://localhost:8080/",
     "height": 206
    },
    "execution": {
     "iopub.execute_input": "2023-10-04T15:48:06.041267Z",
     "iopub.status.busy": "2023-10-04T15:48:06.038612Z",
     "iopub.status.idle": "2023-10-04T15:48:06.113659Z",
     "shell.execute_reply": "2023-10-04T15:48:06.112572Z",
     "shell.execute_reply.started": "2023-10-04T15:48:06.041227Z"
    },
    "id": "lOqtpzC8jlJM",
    "outputId": "b40f4a07-4c2f-4711-d87d-37d95b91a19c"
   },
   "outputs": [],
   "source": [
    "# TODO\n",
    "\n",
    "assert len(mri_df) == 3929\n",
    "mri_df.head()"
   ]
  },
  {
   "cell_type": "markdown",
   "metadata": {
    "id": "ndzpYajn4eke"
   },
   "source": [
    "\n",
    "### **Exercise 2 (3 points)**:\n",
    "\n",
    "##### Append a has_cancer column to the mri_df DataFrame, with values 0 indicating the absence of cancer and 1 indicating the presence of cancer. Then, convert the column to string type."
   ]
  },
  {
   "cell_type": "code",
   "execution_count": null,
   "metadata": {
    "colab": {
     "base_uri": "https://localhost:8080/",
     "height": 206
    },
    "execution": {
     "iopub.execute_input": "2023-10-04T15:48:24.318922Z",
     "iopub.status.busy": "2023-10-04T15:48:24.318588Z",
     "iopub.status.idle": "2023-10-04T15:48:25.432060Z",
     "shell.execute_reply": "2023-10-04T15:48:25.431078Z",
     "shell.execute_reply.started": "2023-10-04T15:48:24.318895Z"
    },
    "id": "DKwqCF8OkYkM",
    "outputId": "db2cc190-d97c-455a-aca2-b8a4717bfd77"
   },
   "outputs": [],
   "source": [
    "def is_cancerous(mask_path):\n",
    "    # TODO\n",
    "    pass \n",
    "\n",
    "mri_df['has_cancer'] = mri_df['mask_path'].apply(lambda x: is_cancerous(x))\n",
    "mri_df.head()"
   ]
  },
  {
   "cell_type": "markdown",
   "metadata": {
    "id": "chXb1OUb6CCQ"
   },
   "source": [
    "# Exploratory Data Analysis"
   ]
  },
  {
   "cell_type": "markdown",
   "metadata": {
    "id": "BDfxzvGU6Rzw"
   },
   "source": [
    "\n",
    "### **Exercise 3 (1 points)**:\n",
    "\n",
    "##### Calculate the number of images exhibiting the presence and absence of cancer."
   ]
  },
  {
   "cell_type": "code",
   "execution_count": null,
   "metadata": {
    "colab": {
     "base_uri": "https://localhost:8080/"
    },
    "execution": {
     "iopub.execute_input": "2023-10-04T15:48:25.434646Z",
     "iopub.status.busy": "2023-10-04T15:48:25.433996Z",
     "iopub.status.idle": "2023-10-04T15:48:25.442850Z",
     "shell.execute_reply": "2023-10-04T15:48:25.441863Z",
     "shell.execute_reply.started": "2023-10-04T15:48:25.434613Z"
    },
    "id": "F9mqGPUHks-E",
    "outputId": "6ee1aaf8-5acf-4834-e7da-26eed05ab0ca"
   },
   "outputs": [],
   "source": [
    "# TODO\n"
   ]
  },
  {
   "cell_type": "markdown",
   "metadata": {
    "id": "aQt-6At76zOi"
   },
   "source": [
    "\n",
    "### **Exercise 4 (3 points)**:\n",
    "\n",
    "##### Determine the proportion of pixels designated as cancerous in relation to the total pixel count. Perform this calculation first for all MRI images and subsequently for images displaying signs of cancer."
   ]
  },
  {
   "cell_type": "code",
   "execution_count": null,
   "metadata": {
    "colab": {
     "base_uri": "https://localhost:8080/"
    },
    "execution": {
     "iopub.execute_input": "2023-10-04T15:48:31.910736Z",
     "iopub.status.busy": "2023-10-04T15:48:31.910411Z",
     "iopub.status.idle": "2023-10-04T15:48:33.493844Z",
     "shell.execute_reply": "2023-10-04T15:48:33.492838Z",
     "shell.execute_reply.started": "2023-10-04T15:48:31.910711Z"
    },
    "id": "T-I07-eS6v48",
    "outputId": "3d2f1692-a3cc-4f17-d332-6c6798cc2268"
   },
   "outputs": [],
   "source": [
    "# TODO\n",
    "\n",
    "print(f'The proportaion of cancerous pixels = {100 * cancerous_pixels_count / total_pixels_count}%')\n",
    "print(f'The proportaion of non-cancerous pixels = {100 * (total_pixels_count - cancerous_pixels_count) / total_pixels_count}%')"
   ]
  },
  {
   "cell_type": "markdown",
   "metadata": {
    "id": "nTFJX0AGEN08"
   },
   "source": [
    "# Visualization"
   ]
  },
  {
   "cell_type": "code",
   "execution_count": null,
   "metadata": {
    "colab": {
     "base_uri": "https://localhost:8080/",
     "height": 1000
    },
    "id": "xDCBYFx0BAOB",
    "outputId": "2cbb7b00-d2bd-4bf7-dc5e-3189b9c347d3"
   },
   "outputs": [],
   "source": [
    "count = 0\n",
    "i = 0\n",
    "fig,axs = plt.subplots(12,3, figsize=(20,50))\n",
    "for has_cancer in mri_df['has_cancer']:\n",
    "    if (has_cancer==1):\n",
    "        img = io.imread(mri_df.image_path[i])\n",
    "        axs[count][0].title.set_text(\"Brain MRI\")\n",
    "        axs[count][0].imshow(img)\n",
    "\n",
    "        mask = io.imread(mri_df.mask_path[i])\n",
    "        axs[count][1].title.set_text(\"Mask\")\n",
    "        axs[count][1].imshow(mask, cmap='gray')\n",
    "\n",
    "        img[mask==255] = (0,255,150)\n",
    "        axs[count][2].title.set_text(\"MRI with Mask\")\n",
    "        axs[count][2].imshow(img)\n",
    "        count +=1\n",
    "    i += 1\n",
    "    if (count==12):\n",
    "        break\n",
    "\n",
    "fig.tight_layout()"
   ]
  },
  {
   "cell_type": "markdown",
   "metadata": {
    "id": "XYzwX_fiEzyk"
   },
   "source": [
    "# Creata Dataset & DataLoader"
   ]
  },
  {
   "cell_type": "markdown",
   "metadata": {
    "id": "ziS_kiwu-Gf5"
   },
   "source": [
    "#### Splitting To Train/Test/Val\n",
    "\n",
    "##### Also, you are free to modify the below code."
   ]
  },
  {
   "cell_type": "code",
   "execution_count": null,
   "metadata": {
    "colab": {
     "base_uri": "https://localhost:8080/"
    },
    "execution": {
     "iopub.execute_input": "2023-10-04T16:28:15.817585Z",
     "iopub.status.busy": "2023-10-04T16:28:15.817238Z",
     "iopub.status.idle": "2023-10-04T16:28:15.849707Z",
     "shell.execute_reply": "2023-10-04T16:28:15.848655Z",
     "shell.execute_reply.started": "2023-10-04T16:28:15.817561Z"
    },
    "id": "uFVxQAfjIpAV",
    "outputId": "efc9defe-164e-4b0a-9887-25c10941d881"
   },
   "outputs": [],
   "source": [
    "import pandas as pd\n",
    "from sklearn.model_selection import train_test_split\n",
    "\n",
    "mri_df['has_cancer'] = mri_df['has_cancer'].apply(lambda x: str(x))\n",
    "\n",
    "X_train, X_test, y_train, y_test = train_test_split(\n",
    "    mri_df[['image_path']],\n",
    "    mri_df[['has_cancer']],\n",
    "    test_size=0.1,\n",
    "    random_state=RANDOM_SEED,\n",
    "    stratify = mri_df['has_cancer'],\n",
    ")\n",
    "\n",
    "train_df = pd.concat([X_train, y_train], axis=1).reset_index(drop=True)\n",
    "test_df = pd.concat([X_test, y_test], axis=1).reset_index(drop=True)\n",
    "\n",
    "X_train, X_val, y_train, y_val = train_test_split(\n",
    "    train_df[['image_path']],\n",
    "    train_df[['has_cancer']],\n",
    "    test_size=0.2,\n",
    "    random_state=RANDOM_SEED,\n",
    "    stratify = train_df['has_cancer']\n",
    ")\n",
    "\n",
    "train_df = pd.concat([X_train, y_train], axis=1).reset_index(drop=True)\n",
    "val_df = pd.concat([X_val, y_val], axis=1).reset_index(drop=True)\n",
    "\n",
    "train_df = pd.concat([train_df_zero, train_df_one], axis=0).reset_index(drop=True)\n",
    "print(f'train df count: {len(train_df)}')\n",
    "print(f'test df count: {len(test_df)}')\n",
    "print(f'validation df count: {len(val_df)}')"
   ]
  },
  {
   "cell_type": "code",
   "execution_count": null,
   "metadata": {
    "execution": {
     "iopub.execute_input": "2023-10-04T16:28:15.906169Z",
     "iopub.status.busy": "2023-10-04T16:28:15.905523Z",
     "iopub.status.idle": "2023-10-04T16:28:15.915722Z",
     "shell.execute_reply": "2023-10-04T16:28:15.914645Z",
     "shell.execute_reply.started": "2023-10-04T16:28:15.906107Z"
    }
   },
   "outputs": [],
   "source": [
    "print(train_df['has_cancer'].value_counts())\n",
    "print(val_df['has_cancer'].value_counts())\n",
    "print(test_df['has_cancer'].value_counts())"
   ]
  },
  {
   "cell_type": "markdown",
   "metadata": {
    "id": "Lhcf9JSX-z-m"
   },
   "source": [
    "### **Exercise 5 (5 points)**:\n",
    "\n",
    "##### Complete the code for the functions of BrainMRIDataset class (mask pixel values must be either 0 or 1)."
   ]
  },
  {
   "cell_type": "code",
   "execution_count": null,
   "metadata": {
    "execution": {
     "iopub.execute_input": "2023-10-04T16:28:22.439947Z",
     "iopub.status.busy": "2023-10-04T16:28:22.439599Z",
     "iopub.status.idle": "2023-10-04T16:28:22.451167Z",
     "shell.execute_reply": "2023-10-04T16:28:22.450285Z",
     "shell.execute_reply.started": "2023-10-04T16:28:22.439921Z"
    },
    "id": "xf7jCMppE_nb"
   },
   "outputs": [],
   "source": [
    "import torch\n",
    "from torch.utils.data import Dataset, DataLoader\n",
    "from torchvision import transforms\n",
    "import cv2\n",
    "\n",
    "class BrainMRIDataset(Dataset):\n",
    "    def __init__(self, dataframe, image_transform=None):\n",
    "        self.dataframe = dataframe\n",
    "        self.image_transform = image_transform\n",
    "\n",
    "    def __len__(self):\n",
    "        # TODO\n",
    "        pass\n",
    "    def __getitem__(self, idx):\n",
    "        # TODO\n",
    "        pass\n",
    "\n",
    "        return image, has_cancer\n",
    "\n",
    "\n",
    "BATCH_SIZE = None\n",
    "\n",
    "train_transform = transforms.Compose([\n",
    "    # TODO\n",
    "    transforms.ToTensor(),\n",
    "])\n",
    "\n",
    "test_transform = transforms.Compose([\n",
    "    # TODO\n",
    "    transforms.ToTensor(),\n",
    "])\n",
    "\n",
    "\n",
    "train_dataset = BrainMRIDataset(\n",
    "    train_df,\n",
    "    image_transform=train_transform,\n",
    ")\n",
    "val_dataest = BrainMRIDataset(\n",
    "    val_df,\n",
    "    image_transform=test_transform,\n",
    ")\n",
    "test_dataset = BrainMRIDataset(\n",
    "    test_df,\n",
    "    image_transform=test_transform,\n",
    ")\n",
    "\n",
    "train_dataloader = DataLoader(train_dataset, batch_size=BATCH_SIZE, shuffle=True)\n",
    "val_dataloader = DataLoader(val_dataest, batch_size=BATCH_SIZE, shuffle=False)\n",
    "test_dataloader = DataLoader(test_dataset, batch_size=BATCH_SIZE, shuffle=False)"
   ]
  },
  {
   "cell_type": "markdown",
   "metadata": {
    "id": "Gd8xM-nIPGyS"
   },
   "source": [
    "# **Classification**\n",
    "\n",
    "##### You will be constructing a classification model designed to determine the presence of cancer in an image. To accomplish this task, utilize a pre-trained model (e.g., ResNet, Inception)."
   ]
  },
  {
   "cell_type": "markdown",
   "metadata": {
    "id": "ugv8m9zTPJM2"
   },
   "source": [
    "### **Exercise 6: Implement Your Classifier (15 points)**:\n",
    "\n",
    "##### You are free to make every layer frozen or trainable."
   ]
  },
  {
   "cell_type": "code",
   "execution_count": null,
   "metadata": {
    "execution": {
     "iopub.execute_input": "2023-10-04T17:05:39.675596Z",
     "iopub.status.busy": "2023-10-04T17:05:39.675250Z",
     "iopub.status.idle": "2023-10-04T17:05:39.683393Z",
     "shell.execute_reply": "2023-10-04T17:05:39.682410Z",
     "shell.execute_reply.started": "2023-10-04T17:05:39.675571Z"
    },
    "id": "eyubGxlKPfMv"
   },
   "outputs": [],
   "source": [
    "import torch\n",
    "import torch.nn as nn\n",
    "import torch.nn.functional as F\n",
    "from torchvision import models\n",
    "\n",
    "class Classifier(nn.Module):\n",
    "    def __init__(self):\n",
    "        super(Classifier, self).__init__()\n",
    "        # TODO\n",
    "    \n",
    "\n",
    "    def forward(self, x):\n",
    "        # TODO\n",
    "        pass\n",
    "    \n",
    "    \n",
    "model = Classifier()\n",
    "model.to(device)"
   ]
  },
  {
   "cell_type": "markdown",
   "metadata": {
    "id": "GMIR9KuAEyoz"
   },
   "source": [
    "### **Exercise 7 (5 points)**:\n",
    "\n",
    "##### Define your optimizer, criterion, and learning rate scheduler.\n",
    "\n",
    "\n",
    "##### **Note**: Do not forget to address the class imbalance problem.\n"
   ]
  },
  {
   "cell_type": "code",
   "execution_count": null,
   "metadata": {
    "colab": {
     "base_uri": "https://localhost:8080/"
    },
    "execution": {
     "iopub.execute_input": "2023-10-04T17:05:40.175481Z",
     "iopub.status.busy": "2023-10-04T17:05:40.175080Z",
     "iopub.status.idle": "2023-10-04T17:05:40.507128Z",
     "shell.execute_reply": "2023-10-04T17:05:40.506200Z",
     "shell.execute_reply.started": "2023-10-04T17:05:40.175445Z"
    },
    "id": "9UBtPVM8uJke",
    "outputId": "9734d817-83d2-4a97-d564-80dbd8c67e8d"
   },
   "outputs": [],
   "source": [
    "import torch.optim as optim\n",
    "from torch.optim import lr_schedule\n",
    "\n",
    "# TODO\n",
    "lr = None\n",
    "\n",
    "criterion = None\n",
    "optimizer = None\n",
    "scheduler = None"
   ]
  },
  {
   "cell_type": "markdown",
   "metadata": {
    "id": "12s8L4w9dXRe"
   },
   "source": [
    "### **Exercise 8 & 9 (35 points)**:\n",
    "\n",
    "##### Complete the code for training and validation."
   ]
  },
  {
   "cell_type": "code",
   "execution_count": null,
   "metadata": {
    "execution": {
     "iopub.execute_input": "2023-10-04T17:05:40.673497Z",
     "iopub.status.busy": "2023-10-04T17:05:40.672571Z",
     "iopub.status.idle": "2023-10-04T17:05:40.683438Z",
     "shell.execute_reply": "2023-10-04T17:05:40.682496Z",
     "shell.execute_reply.started": "2023-10-04T17:05:40.673461Z"
    },
    "id": "ZY8FPI_aq8CD"
   },
   "outputs": [],
   "source": [
    "def train_one_epoch(model, loader, criterion, optimizer, device):\n",
    "    # TODO\n",
    "    return running_loss / len(loader)\n",
    "\n",
    "def validate_one_epoch(model, loader, criterion, device):\n",
    "    # TODO\n",
    "    return running_loss / len(loader), accuracy, precision, recall, f1_score"
   ]
  },
  {
   "cell_type": "code",
   "execution_count": null,
   "metadata": {
    "colab": {
     "base_uri": "https://localhost:8080/"
    },
    "execution": {
     "iopub.execute_input": "2023-10-04T17:05:40.861020Z",
     "iopub.status.busy": "2023-10-04T17:05:40.860374Z"
    },
    "id": "ISME1zWdrCDV",
    "outputId": "a0683ffb-fd0e-42c8-808e-ac117c1ae30b"
   },
   "outputs": [],
   "source": [
    "# TODO\n",
    "\n",
    "num_epochs = None\n",
    "for epoch in range(num_epochs):\n",
    "    train_loss = train(model, train_dataloader, criterion, optimizer, device)\n",
    "    val_loss, acc, precision, recall, f1 = validate(model, val_dataloader, criterion, device)\n",
    "    print(f\"Epoch [{epoch+1}/{num_epochs}] - \"\n",
    "          f\"Loss: {train_loss:.4f} - \"\n",
    "          f\"Validation Loss: {val_loss:.4f} - \"\n",
    "          f\"Validation: ACC {acc:.4f}% - \"\n",
    "          f\"Validation Precision: {precision:.4f}% - \"\n",
    "          f\"Validation: Recall {recall:.4f}% - \"\n",
    "          f\"Validation F1: {f1:.2f}%\")"
   ]
  },
  {
   "cell_type": "markdown",
   "metadata": {
    "id": "YeFWS-Rcdc3v"
   },
   "source": [
    "# **Exercise 10: Evaluation (30 points)**:\n",
    "\n",
    "##### Evaluate your model with the metrics you defined earlier on your test data (f1 > 0.7 is required)."
   ]
  },
  {
   "cell_type": "code",
   "execution_count": null,
   "metadata": {
    "id": "eCOHkCXcIw_7"
   },
   "outputs": [],
   "source": [
    "# TODO\n"
   ]
  },
  {
   "cell_type": "markdown",
   "metadata": {
    "id": "Ax8aJjTWdjrz"
   },
   "source": [
    "\n",
    "# **Exercise 11: Report (5 points)**:\n",
    "\n",
    "##### Visualize the confusion matrix and find the weaknesses of your model (describe it in 2 lines)."
   ]
  },
  {
   "cell_type": "code",
   "execution_count": null,
   "metadata": {
    "id": "PEmyNMRW45Vo"
   },
   "outputs": [],
   "source": [
    "# TODO\n"
   ]
  },
  {
   "cell_type": "markdown",
   "metadata": {
    "id": "swIHiaUy45Vo"
   },
   "source": [
    "#### Your description:"
   ]
  },
  {
   "cell_type": "markdown",
   "metadata": {
    "id": "OYEB8jQMfXSM"
   },
   "source": [
    "\n",
    "# **Exercise 12: Feature Space Visualization (20 points)**:\n",
    "\n",
    "\n",
    "![feature-space-vis.png](attachment:feature-space-vis.png)\n",
    "\n",
    "##### You have trained and evaluated your model. Now, for each image in the trainset, calculate it's \"feature space\" (After Applying Final Pooling).\n",
    "\n",
    "##### Use **TSNE** to visualize the points in a 2D plane (Set color of each point based on it's class).\n"
   ]
  },
  {
   "cell_type": "code",
   "execution_count": null,
   "metadata": {
    "id": "uHUubc7xd_P3"
   },
   "outputs": [],
   "source": [
    "# TODO\n"
   ]
  }
 ],
 "metadata": {
  "accelerator": "GPU",
  "colab": {
   "provenance": []
  },
  "kernelspec": {
   "display_name": "Python 3 (ipykernel)",
   "language": "python",
   "name": "python3"
  },
  "language_info": {
   "codemirror_mode": {
    "name": "ipython",
    "version": 3
   },
   "file_extension": ".py",
   "mimetype": "text/x-python",
   "name": "python",
   "nbconvert_exporter": "python",
   "pygments_lexer": "ipython3",
   "version": "3.9.16"
  }
 },
 "nbformat": 4,
 "nbformat_minor": 4
}
