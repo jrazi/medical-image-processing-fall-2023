{
  "cells": [
    {
      "cell_type": "markdown",
      "metadata": {
        "id": "hQacLDgeqcU2"
      },
      "source": [
        "<h3><center>Intelligent Analysis of Medical Images</center></h3>\n",
        "<h4><center>HW 2: Practical Part</center></h4>\n",
        "<table width='100%' style=\"border: none;\">\n",
        "    <tr style=\"border: none; text-align: center;\">\n",
        "        <td style=\"border: none;\"><h5>Javad Razi</h5></td>\n",
        "        <td style=\"border: none;\"><h5>401204354</h5></td>\n",
        "        <td style=\"border: none;\"><h5>j.razi@outlook.com</h5></td>\n",
        "</table>\n",
        "<hr/>\n",
        "<br/>"
      ]
    },
    {
      "cell_type": "markdown",
      "metadata": {
        "id": "mCRbIFpfqcU4"
      },
      "source": [
        "# **Part A**"
      ]
    },
    {
      "cell_type": "markdown",
      "metadata": {
        "id": "645cugPnqcU5"
      },
      "source": [
        "# Install and Import Libraries\n",
        "In this cell, we will install, and import all the necessary libraries required for the implementation. This includes `torch` for model building and training, `torchvision` for datasets and data transforms, and additional libraries for metrics and visualization."
      ]
    },
    {
      "cell_type": "code",
      "execution_count": 1,
      "metadata": {
        "id": "Er-gifWlqcU5"
      },
      "outputs": [],
      "source": [
        "try:\n",
        "    import gdown\n",
        "except:\n",
        "    %pip install gdown\n",
        "\n",
        "try:\n",
        "    import wandb\n",
        "except:\n",
        "    %pip install wandb\n",
        "try:\n",
        "    import torch\n",
        "except:\n",
        "    %pip install torch\n",
        "\n",
        "try:\n",
        "    import torchvision\n",
        "except:\n",
        "    %pip install torchvision\n",
        "\n",
        "try:\n",
        "    import pickle\n",
        "except:\n",
        "    %pip install pickle"
      ]
    },
    {
      "cell_type": "code",
      "execution_count": 2,
      "metadata": {
        "id": "Ed6VaHrgqcU7"
      },
      "outputs": [],
      "source": [
        "import torch\n",
        "import torch.nn as nn\n",
        "import torch.optim as optim\n",
        "import torch.nn.functional as F\n",
        "from torch.utils.data import Dataset, DataLoader\n",
        "from torchvision import transforms, datasets\n",
        "import numpy as np\n",
        "import matplotlib.pyplot as plt\n",
        "from sklearn.metrics import accuracy_score, precision_score, recall_score, f1_score, confusion_matrix\n",
        "import os\n",
        "import pandas as pd\n",
        "import pickle\n",
        "import wandb"
      ]
    },
    {
      "cell_type": "markdown",
      "metadata": {
        "id": "NpCXuWeuqcU7"
      },
      "source": [
        "# Downloading the Datasets"
      ]
    },
    {
      "cell_type": "code",
      "execution_count": 3,
      "metadata": {
        "id": "kq8zIYNrqcU8"
      },
      "outputs": [],
      "source": [
        "import os\n",
        "import gdown\n",
        "\n",
        "# Create the directory if it doesn't exist\n",
        "if not os.path.exists('./datasets'):\n",
        "    os.makedirs('./datasets')\n",
        "\n",
        "# List of file IDs\n",
        "file_ids = ['1i9Ei3QSmPBnYzqknvZPg_6TNsPomxQYG', '1-2cN6EuFQnIM53q1N3MQCVcoid1NPBWk', '1-0bl_TuSM-JQ4nCwAW7ySn3uYMAGlaz4']\n",
        "\n",
        "file_names = ['train', 'test', 'validation']\n",
        "# Download the files\n",
        "for ind, file_id  in enumerate(file_ids):\n",
        "    url = f'https://drive.google.com/uc?id={file_id}'\n",
        "    output = f'./datasets/{file_names[ind]}.pickle'\n",
        "    if not os.path.exists(output):\n",
        "        gdown.download(url, output, quiet=False)\n"
      ]
    },
    {
      "cell_type": "markdown",
      "metadata": {
        "id": "a46Kw9tFqcU8"
      },
      "source": [
        "## Load The Pickle Files"
      ]
    },
    {
      "cell_type": "code",
      "execution_count": 4,
      "metadata": {
        "id": "4WAZ4aQjqcU8"
      },
      "outputs": [],
      "source": [
        "import pickle\n",
        "\n",
        "with open('./datasets/train.pickle', 'rb') as f:\n",
        "    train_data = pickle.load(f)\n",
        "with open('./datasets/test.pickle', 'rb') as f:\n",
        "    test_data = pickle.load(f)\n",
        "with open('./datasets/validation.pickle', 'rb') as f:\n",
        "    validation_data = pickle.load(f)\n"
      ]
    },
    {
      "cell_type": "markdown",
      "metadata": {
        "id": "a44hzUPLqcU8"
      },
      "source": [
        "## Initialize W&B (WandB)"
      ]
    },
    {
      "cell_type": "code",
      "execution_count": 5,
      "metadata": {
        "id": "i4hKS0btqcU8"
      },
      "outputs": [],
      "source": [
        "# Offline and Online switches for wandb. Offline for now since we don't want to log anything yet.\n",
        "import os\n",
        "\n",
        "def wandb_off():\n",
        "    os.environ['WANDB_MODE'] = 'online'\n",
        "    os.environ['WANDB_SILENT'] = 'true'\n",
        "\n",
        "def wandb_on():\n",
        "    os.environ['WANDB_MODE'] = 'disabled'\n",
        "    os.environ['WANDB_SILENT'] = 'false'\n"
      ]
    },
    {
      "cell_type": "code",
      "execution_count": 7,
      "metadata": {
        "colab": {
          "base_uri": "https://localhost:8080/"
        },
        "id": "IA_DmsxhqcU8",
        "outputId": "58dc3890-bebd-4ba1-8bb6-385c57599570"
      },
      "outputs": [
        {
          "output_type": "execute_result",
          "data": {
            "text/plain": [
              "True"
            ]
          },
          "metadata": {},
          "execution_count": 7
        }
      ],
      "source": [
        "wandb.login(anonymous=\"allow\")"
      ]
    },
    {
      "cell_type": "code",
      "execution_count": 8,
      "metadata": {
        "colab": {
          "base_uri": "https://localhost:8080/",
          "height": 38
        },
        "id": "yIdypE7oqcU8",
        "outputId": "d54152d4-3f29-4182-db83-2673fd63e99d"
      },
      "outputs": [
        {
          "output_type": "execute_result",
          "data": {
            "text/html": [
              "<button onClick=\"this.nextSibling.style.display='block';this.style.display='none';\">Display W&B run</button><iframe src='https://wandb.ai/jrazi/mri-alexnet/runs/5l7cxr2w?jupyter=true' style='border:none;width:100%;height:420px;display:none;'></iframe>"
            ],
            "text/plain": [
              "<wandb.sdk.wandb_run.Run at 0x7b46ab5d7280>"
            ]
          },
          "metadata": {},
          "execution_count": 8
        }
      ],
      "source": [
        "wandb.init(project='mri-alexnet', entity='jrazi', name='jrazi-alexnet-from-scratch')"
      ]
    },
    {
      "cell_type": "markdown",
      "metadata": {
        "id": "s3RisHiDqcU9"
      },
      "source": [
        "# AlexNet Architecture\n",
        "Here we define the AlexNet architecture in PyTorch. We create a class `AlexNet` that inherits from `nn.Module` and define all the layers in the `__init__` method. The `forward` method dictates the data flow through the network.\n"
      ]
    },
    {
      "cell_type": "code",
      "execution_count": 9,
      "metadata": {
        "id": "PySEO3ocqcU9"
      },
      "outputs": [],
      "source": [
        "class AlexNet(nn.Module):\n",
        "    def __init__(self, num_classes=3):\n",
        "        super(AlexNet, self).__init__()\n",
        "        self.features = nn.Sequential(\n",
        "            nn.Conv2d(3, 96, kernel_size=11, stride=4, padding=2),\n",
        "            nn.ReLU(inplace=True),\n",
        "            nn.MaxPool2d(kernel_size=3, stride=2),\n",
        "            nn.Conv2d(96, 256, kernel_size=5, padding=2),\n",
        "            nn.ReLU(inplace=True),\n",
        "            nn.MaxPool2d(kernel_size=3, stride=2),\n",
        "            nn.Conv2d(256, 384, kernel_size=3, padding=1),\n",
        "            nn.ReLU(inplace=True),\n",
        "            nn.Conv2d(384, 384, kernel_size=3, padding=1),\n",
        "            nn.ReLU(inplace=True),\n",
        "            nn.Conv2d(384, 256, kernel_size=3, padding=1),\n",
        "            nn.ReLU(inplace=True),\n",
        "            nn.MaxPool2d(kernel_size=3, stride=2),\n",
        "        )\n",
        "        self.avgpool = nn.AdaptiveAvgPool2d((6, 6))\n",
        "        self.classifier = nn.Sequential(\n",
        "            nn.Dropout(),\n",
        "            nn.Linear(256 * 6 * 6, 4096),\n",
        "            nn.ReLU(inplace=True),\n",
        "            nn.Dropout(),\n",
        "            nn.Linear(4096, 4096),\n",
        "            nn.ReLU(inplace=True),\n",
        "            nn.Linear(4096, num_classes),\n",
        "        )\n",
        "\n",
        "    def forward(self, x):\n",
        "        x = self.features(x)\n",
        "        x = self.avgpool(x)\n",
        "        x = torch.flatten(x, 1)\n",
        "        x = self.classifier(x)\n",
        "        return x"
      ]
    },
    {
      "cell_type": "markdown",
      "metadata": {
        "id": "F-Q7q7WOqcU9"
      },
      "source": [
        "# Dataset and Dataloaders\n",
        "In this cell, we define our custom dataset class which will handle the MRI images. We'll also create the dataloaders for training, validation, and testing datasets."
      ]
    },
    {
      "cell_type": "code",
      "execution_count": 10,
      "metadata": {
        "id": "TeJKRlxEqcU9"
      },
      "outputs": [],
      "source": [
        "class MRIDataset(Dataset):\n",
        "    def __init__(self, data, transform=None):\n",
        "        self.data = data\n",
        "        self.transform = transform\n",
        "\n",
        "    def __len__(self):\n",
        "        return len(self.data)\n",
        "\n",
        "    def __getitem__(self, index):\n",
        "        image, label = self.data[index]\n",
        "        label -= 1\n",
        "        if self.transform:\n",
        "            image = self.transform(image)\n",
        "        return image, label\n",
        "\n",
        "\n",
        "# Define transforms for the dataset\n",
        "transform = transforms.Compose([\n",
        "    transforms.ToTensor(),\n",
        "    transforms.Resize((227, 227)), # AlexNet uses 227x227 inputs\n",
        "    transforms.Normalize(mean=[0.485, 0.456, 0.406], std=[0.229, 0.224, 0.225]),\n",
        "])\n",
        "\n",
        "# Create dataset instances\n",
        "train_dataset = MRIDataset(train_data, transform=transform)\n",
        "valid_dataset = MRIDataset(validation_data, transform=transform)\n",
        "test_dataset = MRIDataset(test_data, transform=transform)\n",
        "\n",
        "# Create dataloaders\n",
        "train_loader = DataLoader(dataset=train_dataset, batch_size=64, shuffle=True)\n",
        "valid_loader = DataLoader(dataset=valid_dataset, batch_size=64, shuffle=False)\n",
        "test_loader = DataLoader(dataset=test_dataset, batch_size=64, shuffle=False)\n"
      ]
    },
    {
      "cell_type": "markdown",
      "metadata": {
        "id": "ezSwVGaDqcU9"
      },
      "source": [
        "# Loss Function and Optimizer\n",
        "In this cell, we define the loss function and the optimizer for our AlexNet model. We use Cross-Entropy Loss for our multi-class classification problem and the Adam optimizer with a learning rate of 1e-4."
      ]
    },
    {
      "cell_type": "code",
      "execution_count": 11,
      "metadata": {
        "id": "C4s7BLx3qcU9"
      },
      "outputs": [],
      "source": [
        "model = AlexNet(num_classes=3)\n",
        "device = torch.device(\"cuda\" if torch.cuda.is_available() else \"cpu\")\n",
        "model.to(device)\n",
        "\n",
        "loss_function = nn.CrossEntropyLoss()\n",
        "optimizer = optim.Adam(model.parameters(), lr=1e-4)"
      ]
    },
    {
      "cell_type": "markdown",
      "metadata": {
        "id": "egJPH3qfqcU9"
      },
      "source": [
        "# Training Loop\n",
        "Here we define the training loop where we train our AlexNet model. We keep track of the loss and accuracy for both the training and validation datasets."
      ]
    },
    {
      "cell_type": "code",
      "execution_count": 12,
      "metadata": {
        "colab": {
          "base_uri": "https://localhost:8080/"
        },
        "id": "s2-AJqFgqcU9",
        "outputId": "5ca91e6b-93ee-422d-c3da-ce98731a2eeb"
      },
      "outputs": [
        {
          "output_type": "stream",
          "name": "stderr",
          "text": [
            "/usr/local/lib/python3.10/dist-packages/torchvision/transforms/functional.py:1603: UserWarning: The default value of the antialias parameter of all the resizing transforms (Resize(), RandomResizedCrop(), etc.) will change from None to True in v0.17, in order to be consistent across the PIL and Tensor backends. To suppress this warning, directly pass antialias=True (recommended, future default), antialias=None (current default, which means False for Tensors and True for PIL), or antialias=False (only works on Tensors - PIL will still use antialiasing). This also applies if you are using the inference transforms from the models weights: update the call to weights.transforms(antialias=True).\n",
            "  warnings.warn(\n"
          ]
        },
        {
          "output_type": "stream",
          "name": "stdout",
          "text": [
            "Epoch [1/10], Train Loss: 0.9877, Valid Loss: 0.7443\n",
            "Epoch [2/10], Train Loss: 0.6250, Valid Loss: 0.6167\n",
            "Epoch [3/10], Train Loss: 0.5509, Valid Loss: 0.5347\n",
            "Epoch [4/10], Train Loss: 0.4566, Valid Loss: 0.4943\n",
            "Epoch [5/10], Train Loss: 0.4073, Valid Loss: 0.6788\n",
            "Epoch [6/10], Train Loss: 0.3889, Valid Loss: 0.4106\n",
            "Epoch [7/10], Train Loss: 0.3162, Valid Loss: 0.3133\n",
            "Epoch [8/10], Train Loss: 0.2468, Valid Loss: 0.2723\n",
            "Epoch [9/10], Train Loss: 0.2194, Valid Loss: 0.3687\n",
            "Epoch [10/10], Train Loss: 0.1856, Valid Loss: 0.2521\n"
          ]
        }
      ],
      "source": [
        "# Training parameters\n",
        "num_epochs = 10\n",
        "train_steps = len(train_loader)\n",
        "valid_steps = len(valid_loader)\n",
        "\n",
        "# To track the training loss as the model trains\n",
        "train_losses = []\n",
        "# To track the validation loss as the model trains\n",
        "valid_losses = []\n",
        "# To track the average training loss per epoch as the model trains\n",
        "avg_train_losses = []\n",
        "# To track the average validation loss per epoch as the model trains\n",
        "avg_valid_losses = []\n",
        "\n",
        "for epoch in range(num_epochs):\n",
        "    model.train()  # Set model to training mode\n",
        "    total_train_loss = 0\n",
        "    total_valid_loss = 0\n",
        "\n",
        "    # Training\n",
        "    for images, labels in train_loader:\n",
        "        images, labels = images.to(device), labels.to(device)\n",
        "        optimizer.zero_grad()\n",
        "        outputs = model(images)\n",
        "        loss = loss_function(outputs, labels)\n",
        "        loss.backward()\n",
        "        optimizer.step()\n",
        "        total_train_loss += loss.item()\n",
        "        wandb.log({'train_loss': loss.item()})\n",
        "\n",
        "    # Validation\n",
        "    model.eval()  # Set model to evaluate mode\n",
        "    with torch.no_grad():\n",
        "        for images, labels in valid_loader:\n",
        "            images, labels = images.to(device), labels.to(device)\n",
        "            outputs = model(images)\n",
        "            loss = loss_function(outputs, labels)\n",
        "            total_valid_loss += loss.item()\n",
        "            wandb.log({'valid_loss': loss.item()})\n",
        "\n",
        "    # Calculate average losses\n",
        "    avg_train_loss = total_train_loss / train_steps\n",
        "    avg_valid_loss = total_valid_loss / valid_steps\n",
        "\n",
        "    train_losses.append(avg_train_loss)\n",
        "    valid_losses.append(avg_valid_loss)\n",
        "\n",
        "    # Log average losses to wandb\n",
        "    wandb.log({'epoch': epoch, 'avg_train_loss': avg_train_loss, 'avg_valid_loss': avg_valid_loss})\n",
        "\n",
        "    # Print training and validation progress\n",
        "    print(f'Epoch [{epoch+1}/{num_epochs}], Train Loss: {avg_train_loss:.4f}, Valid Loss: {avg_valid_loss:.4f}')"
      ]
    },
    {
      "cell_type": "markdown",
      "metadata": {
        "id": "6Q5sycLjqcU9"
      },
      "source": [
        "# Training and Validation Loss Plots\n",
        "In this cell, we visualize the training and validation loss over the epochs to understand the learning trend."
      ]
    },
    {
      "cell_type": "code",
      "execution_count": 15,
      "metadata": {
        "colab": {
          "base_uri": "https://localhost:8080/",
          "height": 472
        },
        "id": "Da6Iwev1qcU-",
        "outputId": "ce16f50a-818d-4119-88d1-b4a03e075148"
      },
      "outputs": [
        {
          "output_type": "display_data",
          "data": {
            "text/plain": [
              "<Figure size 640x480 with 1 Axes>"
            ],
            "image/png": "[encoded data removed]"
          },
          "metadata": {}
        }
      ],
      "source": [
        "# plt.figure(figsize=(10,5))\n",
        "plt.title(\"Training and Validation Loss\")\n",
        "plt.plot(train_losses,label=\"train\")\n",
        "plt.plot(valid_losses,label=\"validation\")\n",
        "plt.xlabel(\"iterations\")\n",
        "plt.ylabel(\"Loss\")\n",
        "plt.legend()\n",
        "plt.show()"
      ]
    },
    {
      "cell_type": "markdown",
      "metadata": {
        "id": "CTjBDYh-qcU-"
      },
      "source": [
        "# Evaluate the Model\n",
        "In this cell, we evaluate the trained AlexNet model on the test dataset and calculate the classification metrics like accuracy, precision, recall, and F1 score."
      ]
    },
    {
      "cell_type": "code",
      "execution_count": 16,
      "metadata": {
        "colab": {
          "base_uri": "https://localhost:8080/"
        },
        "id": "q_s_d_AxqcU-",
        "outputId": "a46e00dd-dc86-4d05-c58b-ecd3b01971b4"
      },
      "outputs": [
        {
          "output_type": "stream",
          "name": "stdout",
          "text": [
            "Accuracy: 0.9251, Precision: 0.9252, Recall: 0.9251, F1-Score: 0.9251\n"
          ]
        }
      ],
      "source": [
        "# Evaluate on test set\n",
        "model.eval()\n",
        "y_true = []\n",
        "y_pred = []\n",
        "\n",
        "with torch.no_grad():\n",
        "    for images, labels in test_loader:\n",
        "        images, labels = images.to(device), labels.to(device)\n",
        "        outputs = model(images)\n",
        "        _, predicted = torch.max(outputs, 1)\n",
        "        y_true.extend(labels.cpu().numpy())\n",
        "        y_pred.extend(predicted.cpu().numpy())\n",
        "\n",
        "# Calculate metrics\n",
        "accuracy = accuracy_score(y_true, y_pred)\n",
        "precision = precision_score(y_true, y_pred, average='weighted')\n",
        "recall = recall_score(y_true, y_pred, average='weighted')\n",
        "f1 = f1_score(y_true, y_pred, average='weighted')\n",
        "\n",
        "# Log metrics to wandb\n",
        "wandb.log({'accuracy': accuracy, 'precision': precision, 'recall': recall, 'f1_score': f1})\n",
        "\n",
        "print(f'Accuracy: {accuracy:.4f}, Precision: {precision:.4f}, Recall: {recall:.4f}, F1-Score: {f1:.4f}')"
      ]
    },
    {
      "cell_type": "code",
      "execution_count": 17,
      "metadata": {
        "id": "aZKEcQvSqcU-"
      },
      "outputs": [],
      "source": [
        "# Create wandb metrics\n",
        "\n",
        "from_scratch_metrics = {\n",
        "    'accuracy': accuracy,\n",
        "    'precision': precision,\n",
        "    'recall': recall,\n",
        "    'f1_score': f1\n",
        "}\n",
        "\n",
        "# Log metrics to wandb for the from-scratch model\n",
        "wandb.log({'from_scratch_accuracy': from_scratch_metrics['accuracy'],\n",
        "           'from_scratch_precision': from_scratch_metrics['precision'],\n",
        "           'from_scratch_recall': from_scratch_metrics['recall'],\n",
        "           'from_scratch_f1_score': from_scratch_metrics['f1_score']})"
      ]
    },
    {
      "cell_type": "code",
      "execution_count": 18,
      "metadata": {
        "id": "LVAnI40WqcU-"
      },
      "outputs": [],
      "source": [
        "wandb.finish()"
      ]
    },
    {
      "cell_type": "markdown",
      "metadata": {
        "id": "iOy8Wu9sqcU-"
      },
      "source": [
        "# **Part B**"
      ]
    },
    {
      "cell_type": "markdown",
      "metadata": {
        "id": "XlX8i1efqcU-"
      },
      "source": [
        "## Initialize WandB"
      ]
    },
    {
      "cell_type": "code",
      "execution_count": 19,
      "metadata": {
        "colab": {
          "base_uri": "https://localhost:8080/",
          "height": 38
        },
        "id": "od1p1bPpqcU-",
        "outputId": "c1b3c294-693f-4e27-826d-6e392dd3b63b"
      },
      "outputs": [
        {
          "output_type": "execute_result",
          "data": {
            "text/html": [
              "<button onClick=\"this.nextSibling.style.display='block';this.style.display='none';\">Display W&B run</button><iframe src='https://wandb.ai/jrazi/mri-alexnet/runs/41b3iwxr?jupyter=true' style='border:none;width:100%;height:420px;display:none;'></iframe>"
            ],
            "text/plain": [
              "<wandb.sdk.wandb_run.Run at 0x7b46a92e8280>"
            ]
          },
          "metadata": {},
          "execution_count": 19
        }
      ],
      "source": [
        "wandb.init(project='mri-alexnet', entity='jrazi', name='jrazi-alexnet-pretrained')"
      ]
    },
    {
      "cell_type": "markdown",
      "metadata": {
        "id": "iERzS3-zqcU-"
      },
      "source": [
        "# Load Pre-Trained AlexNet\n",
        "In this cell, we load a pre-trained AlexNet model from torchvision's models. We then replace the final classification layer to match the number of classes in our dataset. We'll also define the loss function and optimizer for this pre-trained model."
      ]
    },
    {
      "cell_type": "code",
      "execution_count": 20,
      "metadata": {
        "colab": {
          "base_uri": "https://localhost:8080/"
        },
        "id": "dAhEs67PqcU-",
        "outputId": "11e0a031-c1b7-4780-ad2a-f09d5afa79af"
      },
      "outputs": [
        {
          "output_type": "stream",
          "name": "stderr",
          "text": [
            "/usr/local/lib/python3.10/dist-packages/torchvision/models/_utils.py:208: UserWarning: The parameter 'pretrained' is deprecated since 0.13 and may be removed in the future, please use 'weights' instead.\n",
            "  warnings.warn(\n",
            "/usr/local/lib/python3.10/dist-packages/torchvision/models/_utils.py:223: UserWarning: Arguments other than a weight enum or `None` for 'weights' are deprecated since 0.13 and may be removed in the future. The current behavior is equivalent to passing `weights=AlexNet_Weights.IMAGENET1K_V1`. You can also use `weights=AlexNet_Weights.DEFAULT` to get the most up-to-date weights.\n",
            "  warnings.warn(msg)\n"
          ]
        }
      ],
      "source": [
        "from torchvision import models\n",
        "\n",
        "# Load pre-trained AlexNet\n",
        "pretrained_alexnet = models.alexnet(pretrained=True)\n",
        "# Modify the classifier to match the number of classes\n",
        "pretrained_alexnet.classifier[6] = nn.Linear(pretrained_alexnet.classifier[6].in_features, 3)\n",
        "pretrained_alexnet = pretrained_alexnet.to(device)\n",
        "\n",
        "# Loss and optimizer\n",
        "criterion = nn.CrossEntropyLoss()\n",
        "optimizer = optim.Adam(pretrained_alexnet.parameters(), lr=1e-4)"
      ]
    },
    {
      "cell_type": "markdown",
      "metadata": {
        "id": "i9_RqVkKqcU-"
      },
      "source": [
        "# Train and Validate Pre-Trained AlexNet\n",
        "Here we train and validate the pre-trained AlexNet on our MRI dataset. We track the loss and accuracy for both the training and validation sets."
      ]
    },
    {
      "cell_type": "code",
      "execution_count": 21,
      "metadata": {
        "colab": {
          "base_uri": "https://localhost:8080/"
        },
        "id": "R6HDTHszqcU-",
        "outputId": "456ecd57-b220-49a2-94b3-b0cf3c54b1d5"
      },
      "outputs": [
        {
          "output_type": "stream",
          "name": "stderr",
          "text": [
            "/usr/local/lib/python3.10/dist-packages/torchvision/transforms/functional.py:1603: UserWarning: The default value of the antialias parameter of all the resizing transforms (Resize(), RandomResizedCrop(), etc.) will change from None to True in v0.17, in order to be consistent across the PIL and Tensor backends. To suppress this warning, directly pass antialias=True (recommended, future default), antialias=None (current default, which means False for Tensors and True for PIL), or antialias=False (only works on Tensors - PIL will still use antialiasing). This also applies if you are using the inference transforms from the models weights: update the call to weights.transforms(antialias=True).\n",
            "  warnings.warn(\n"
          ]
        },
        {
          "output_type": "stream",
          "name": "stdout",
          "text": [
            "Epoch [1/10], Train Loss: 0.4637, Valid Loss: 0.3354\n",
            "Epoch [2/10], Train Loss: 0.2217, Valid Loss: 0.2494\n",
            "Epoch [3/10], Train Loss: 0.1293, Valid Loss: 0.1821\n",
            "Epoch [4/10], Train Loss: 0.0755, Valid Loss: 0.2356\n",
            "Epoch [5/10], Train Loss: 0.0506, Valid Loss: 0.1471\n",
            "Epoch [6/10], Train Loss: 0.0435, Valid Loss: 0.2293\n",
            "Epoch [7/10], Train Loss: 0.0565, Valid Loss: 0.1607\n",
            "Epoch [8/10], Train Loss: 0.0207, Valid Loss: 0.1307\n",
            "Epoch [9/10], Train Loss: 0.0132, Valid Loss: 0.1328\n",
            "Epoch [10/10], Train Loss: 0.0082, Valid Loss: 0.1232\n"
          ]
        }
      ],
      "source": [
        "num_epochs = 10\n",
        "train_steps = len(train_loader)\n",
        "valid_steps = len(valid_loader)\n",
        "\n",
        "pretrained_train_losses = []\n",
        "pretrained_valid_losses = []\n",
        "pretrained_avg_train_losses = []\n",
        "pretrained_avg_valid_losses = []\n",
        "\n",
        "# Training loop\n",
        "for epoch in range(num_epochs):\n",
        "    pretrained_alexnet.train()\n",
        "    total_train_loss = 0\n",
        "    total_valid_loss = 0\n",
        "\n",
        "    # Training\n",
        "    for images, labels in train_loader:\n",
        "        images, labels = images.to(device), labels.to(device)\n",
        "        optimizer.zero_grad()\n",
        "        outputs = pretrained_alexnet(images)\n",
        "        loss = criterion(outputs, labels)\n",
        "        loss.backward()\n",
        "        optimizer.step()\n",
        "        total_train_loss += loss.item()\n",
        "\n",
        "    # Validation\n",
        "    pretrained_alexnet.eval()\n",
        "    with torch.no_grad():\n",
        "        for images, labels in valid_loader:\n",
        "            images, labels = images.to(device), labels.to(device)\n",
        "            outputs = pretrained_alexnet(images)\n",
        "            loss = criterion(outputs, labels)\n",
        "            total_valid_loss += loss.item()\n",
        "\n",
        "    # Calculate average losses\n",
        "    avg_train_loss = total_train_loss / train_steps\n",
        "    avg_valid_loss = total_valid_loss / valid_steps\n",
        "\n",
        "    pretrained_train_losses.append(avg_train_loss)\n",
        "    pretrained_valid_losses.append(avg_valid_loss)\n",
        "\n",
        "    # Print training and validation progress\n",
        "    print(f'Epoch [{epoch+1}/{num_epochs}], Train Loss: {avg_train_loss:.4f}, Valid Loss: {avg_valid_loss:.4f}')"
      ]
    },
    {
      "cell_type": "markdown",
      "metadata": {
        "id": "ItnG2g2XqcU-"
      },
      "source": [
        "# Visualize Loss and Accuracy for Pre-Trained AlexNet\n",
        "We visualize the training and validation loss and accuracy for the pre-trained AlexNet using matplotlib."
      ]
    },
    {
      "cell_type": "code",
      "execution_count": 22,
      "metadata": {
        "colab": {
          "base_uri": "https://localhost:8080/",
          "height": 487
        },
        "id": "aw1ghGDsqcU-",
        "outputId": "1124fdf4-40c6-4e8d-c768-3868eb7f87ec"
      },
      "outputs": [
        {
          "output_type": "display_data",
          "data": {
            "text/plain": [
              "<Figure size 1000x500 with 1 Axes>"
            ],
            "image/png": "[encoded data removed]"
          },
          "metadata": {}
        }
      ],
      "source": [
        "plt.figure(figsize=(10,5))\n",
        "plt.title(\"Training and Validation Loss\")\n",
        "plt.plot(pretrained_train_losses,label=\"train\")\n",
        "plt.plot(pretrained_valid_losses,label=\"validation\")\n",
        "plt.xlabel(\"iterations\")\n",
        "plt.ylabel(\"Loss\")\n",
        "plt.legend()\n",
        "plt.show()"
      ]
    },
    {
      "cell_type": "markdown",
      "metadata": {
        "id": "vSVTwsnaqcU_"
      },
      "source": [
        "# Evaluate Pre-Trained AlexNet\n",
        "In this cell, we evaluate the pre-trained AlexNet on the test dataset and calculate the classification metrics."
      ]
    },
    {
      "cell_type": "code",
      "execution_count": 23,
      "metadata": {
        "colab": {
          "base_uri": "https://localhost:8080/"
        },
        "id": "jcewOVsJqcU_",
        "outputId": "62d89259-4ac9-4078-d04c-43f747113ce1"
      },
      "outputs": [
        {
          "output_type": "stream",
          "name": "stdout",
          "text": [
            "Accuracy: 0.9642, Precision: 0.9644, Recall: 0.9642, F1-Score: 0.9642\n"
          ]
        }
      ],
      "source": [
        "# Evaluate on test set\n",
        "pretrained_alexnet.eval()\n",
        "y_true = []\n",
        "y_pred = []\n",
        "\n",
        "with torch.no_grad():\n",
        "    for images, labels in test_loader:\n",
        "        images, labels = images.to(device), labels.to(device)\n",
        "        outputs = pretrained_alexnet(images)\n",
        "        _, predicted = torch.max(outputs, 1)\n",
        "        y_true.extend(labels.cpu().numpy())\n",
        "        y_pred.extend(predicted.cpu().numpy())\n",
        "\n",
        "# Calculate metrics\n",
        "accuracy = accuracy_score(y_true, y_pred)\n",
        "precision = precision_score(y_true, y_pred, average='weighted')\n",
        "recall = recall_score(y_true, y_pred, average='weighted')\n",
        "f1 = f1_score(y_true, y_pred, average='weighted')\n",
        "\n",
        "print(f'Accuracy: {accuracy:.4f}, Precision: {precision:.4f}, Recall: {recall:.4f}, F1-Score: {f1:.4f}')"
      ]
    },
    {
      "cell_type": "code",
      "execution_count": 24,
      "metadata": {
        "id": "Xs640vT2qcU_"
      },
      "outputs": [],
      "source": [
        "pretrained_metrics = {\n",
        "    'accuracy': accuracy,\n",
        "    'precision': precision,\n",
        "    'recall': recall,\n",
        "    'f1_score': f1\n",
        "}\n",
        "\n",
        "# Log metrics to wandb for the pre-trained model\n",
        "wandb.log({'pretrained_accuracy': pretrained_metrics['accuracy'],\n",
        "           'pretrained_precision': pretrained_metrics['precision'],\n",
        "           'pretrained_recall': pretrained_metrics['recall'],\n",
        "           'pretrained_f1_score': pretrained_metrics['f1_score']})"
      ]
    },
    {
      "cell_type": "markdown",
      "metadata": {
        "id": "oWLjkijhqcVJ"
      },
      "source": [
        "# Comparison of From-Scratch and Pre-Trained AlexNet\n",
        "In this cell, we compare the performance of our from-scratch AlexNet with the pre-trained AlexNet on our dataset, based on the metrics we calculated."
      ]
    },
    {
      "cell_type": "code",
      "execution_count": 25,
      "metadata": {
        "colab": {
          "base_uri": "https://localhost:8080/"
        },
        "id": "OoXXOBO4qcVJ",
        "outputId": "66cc8fef-1970-4454-8083-676b59a3af10"
      },
      "outputs": [
        {
          "output_type": "stream",
          "name": "stdout",
          "text": [
            "From-Scratch AlexNet Metrics:\n",
            "Accuracy: 0.9251\n",
            "Precision: 0.9252\n",
            "Recall: 0.9251\n",
            "F1-Score: 0.9251\n",
            "\n",
            "Pre-Trained AlexNet Metrics:\n",
            "Accuracy: 0.9642\n",
            "Precision: 0.9644\n",
            "Recall: 0.9642\n",
            "F1-Score: 0.9642\n"
          ]
        }
      ],
      "source": [
        "wandb.log({\n",
        "    'from_scratch_accuracy': from_scratch_metrics['accuracy'],\n",
        "    'pretrained_accuracy': pretrained_metrics['accuracy'],\n",
        "    'from_scratch_precision': from_scratch_metrics['precision'],\n",
        "    'pretrained_precision': pretrained_metrics['precision'],\n",
        "    'from_scratch_recall': from_scratch_metrics['recall'],\n",
        "    'pretrained_recall': pretrained_metrics['recall'],\n",
        "    'from_scratch_f1_score': from_scratch_metrics['f1_score'],\n",
        "    'pretrained_f1_score': pretrained_metrics['f1_score']\n",
        "})\n",
        "\n",
        "# Print out for inspection\n",
        "print(\"From-Scratch AlexNet Metrics:\")\n",
        "print(f\"Accuracy: {from_scratch_metrics['accuracy']:.4f}\")\n",
        "print(f\"Precision: {from_scratch_metrics['precision']:.4f}\")\n",
        "print(f\"Recall: {from_scratch_metrics['recall']:.4f}\")\n",
        "print(f\"F1-Score: {from_scratch_metrics['f1_score']:.4f}\\n\")\n",
        "\n",
        "print(\"Pre-Trained AlexNet Metrics:\")\n",
        "print(f\"Accuracy: {pretrained_metrics['accuracy']:.4f}\")\n",
        "print(f\"Precision: {pretrained_metrics['precision']:.4f}\")\n",
        "print(f\"Recall: {pretrained_metrics['recall']:.4f}\")\n",
        "print(f\"F1-Score: {pretrained_metrics['f1_score']:.4f}\")"
      ]
    },
    {
      "cell_type": "code",
      "execution_count": 26,
      "metadata": {
        "id": "k7TtDYioqcVJ"
      },
      "outputs": [],
      "source": [
        "wandb.finish()"
      ]
    },
    {
      "cell_type": "markdown",
      "metadata": {
        "id": "-hpOz-kQqcVJ"
      },
      "source": [
        "# **Part C**"
      ]
    },
    {
      "cell_type": "markdown",
      "metadata": {
        "id": "2uFcS6-aqcVJ"
      },
      "source": [
        "# Implementing Supervised Contrastive Loss\n",
        "Here We'll define the new loss function and update our training loop accordingly."
      ]
    },
    {
      "cell_type": "code",
      "execution_count": 27,
      "metadata": {
        "id": "-K9Uw9mgqcVK"
      },
      "outputs": [],
      "source": [
        "class SupervisedContrastiveLoss(nn.Module):\n",
        "    def __init__(self, temperature=0.1):\n",
        "        super(SupervisedContrastiveLoss, self).__init__()\n",
        "        self.temperature = temperature\n",
        "\n",
        "    def forward(self, features, labels):\n",
        "        labels = labels.contiguous().view(-1, 1)\n",
        "        batch_size = features.shape[0]\n",
        "\n",
        "        mask = torch.eye(batch_size).bool().to(features.device)\n",
        "        features = F.normalize(features, dim=1)\n",
        "        sim_matrix = torch.matmul(features, features.T) / self.temperature\n",
        "\n",
        "        # Create masks\n",
        "        pos_mask = labels.eq(labels.T) & ~mask\n",
        "        neg_mask = ~labels.eq(labels.T)\n",
        "\n",
        "        # Select out positive and negative similarities\n",
        "        pos_sim = sim_matrix[pos_mask]\n",
        "        neg_sim = sim_matrix[neg_mask]\n",
        "\n",
        "        # Calculate logits and their corresponding labels\n",
        "        logits = torch.cat((pos_sim, neg_sim), dim=0).unsqueeze(1)\n",
        "        labels = torch.cat((torch.ones(pos_sim.size(0), device=features.device),\n",
        "                            torch.zeros(neg_sim.size(0), device=features.device)), dim=0)\n",
        "\n",
        "        # Calculate the contrastive loss as a binary cross-entropy loss\n",
        "        loss = F.binary_cross_entropy_with_logits(logits, labels.unsqueeze(1), reduction='mean')\n",
        "\n",
        "        return loss\n"
      ]
    },
    {
      "cell_type": "markdown",
      "metadata": {
        "id": "DMVNoNVQqcVK"
      },
      "source": [
        "## Initialize WandB"
      ]
    },
    {
      "cell_type": "code",
      "execution_count": 28,
      "metadata": {
        "colab": {
          "base_uri": "https://localhost:8080/",
          "height": 38
        },
        "id": "deENsXwvqcVK",
        "outputId": "3b4b0027-01fa-4bb9-8a04-470c273dea23"
      },
      "outputs": [
        {
          "output_type": "execute_result",
          "data": {
            "text/html": [
              "<button onClick=\"this.nextSibling.style.display='block';this.style.display='none';\">Display W&B run</button><iframe src='https://wandb.ai/jrazi/mri-alexnet/runs/bd6g6t8o?jupyter=true' style='border:none;width:100%;height:420px;display:none;'></iframe>"
            ],
            "text/plain": [
              "<wandb.sdk.wandb_run.Run at 0x7b46a92e8400>"
            ]
          },
          "metadata": {},
          "execution_count": 28
        }
      ],
      "source": [
        "wandb.init(project='mri-alexnet', entity='jrazi', name='jrazi-alexnet-supervised-contrastive-loss')"
      ]
    },
    {
      "cell_type": "markdown",
      "metadata": {
        "id": "226Hec2cqcVK"
      },
      "source": [
        "# Retrain & Fine-Tune with Categorical Cross-Entropy\n",
        "Here, we retrain the from-scratch AlexNet using Supervised Contrastive Loss for 10 epochs followed by fine-tuning with Cross-Entropy Loss for 5 epochs."
      ]
    },
    {
      "cell_type": "code",
      "execution_count": 29,
      "metadata": {
        "colab": {
          "base_uri": "https://localhost:8080/"
        },
        "id": "aGqHzTQCqcVK",
        "outputId": "0b6b2582-8133-438c-e39f-6b58c02fb6ed"
      },
      "outputs": [
        {
          "output_type": "stream",
          "name": "stderr",
          "text": [
            "/usr/local/lib/python3.10/dist-packages/torchvision/transforms/functional.py:1603: UserWarning: The default value of the antialias parameter of all the resizing transforms (Resize(), RandomResizedCrop(), etc.) will change from None to True in v0.17, in order to be consistent across the PIL and Tensor backends. To suppress this warning, directly pass antialias=True (recommended, future default), antialias=None (current default, which means False for Tensors and True for PIL), or antialias=False (only works on Tensors - PIL will still use antialiasing). This also applies if you are using the inference transforms from the models weights: update the call to weights.transforms(antialias=True).\n",
            "  warnings.warn(\n"
          ]
        },
        {
          "output_type": "stream",
          "name": "stdout",
          "text": [
            "Contrastive Epoch [1/10], Train Loss: 5.9997\n",
            "Contrastive Epoch [2/10], Train Loss: 3.0649\n",
            "Contrastive Epoch [3/10], Train Loss: 2.7013\n",
            "Contrastive Epoch [4/10], Train Loss: 2.6845\n",
            "Contrastive Epoch [5/10], Train Loss: 2.6496\n",
            "Contrastive Epoch [6/10], Train Loss: 2.7264\n",
            "Contrastive Epoch [7/10], Train Loss: 2.6145\n",
            "Contrastive Epoch [8/10], Train Loss: 2.6442\n",
            "Contrastive Epoch [9/10], Train Loss: 2.5948\n",
            "Contrastive Epoch [10/10], Train Loss: 2.6041\n",
            "Cross-Entropy Epoch [1/5], Train Loss: 1.1397, Valid Loss: 0.8856\n",
            "Cross-Entropy Epoch [2/5], Train Loss: 0.7164, Valid Loss: 0.6183\n",
            "Cross-Entropy Epoch [3/5], Train Loss: 0.5347, Valid Loss: 0.5483\n",
            "Cross-Entropy Epoch [4/5], Train Loss: 0.4748, Valid Loss: 0.4679\n",
            "Cross-Entropy Epoch [5/5], Train Loss: 0.4506, Valid Loss: 0.4435\n"
          ]
        }
      ],
      "source": [
        "model = AlexNet(num_classes=3)\n",
        "model.to(device)\n",
        "contrastive_loss_function = SupervisedContrastiveLoss()\n",
        "cross_entropy_loss_function = nn.CrossEntropyLoss()\n",
        "optimizer = optim.Adam(model.parameters(), lr=1e-4)\n",
        "\n",
        "# Training parameters\n",
        "contrastive_epochs = 10\n",
        "cross_entropy_epochs = 5\n",
        "\n",
        "# Training loop for Supervised Contrastive Loss\n",
        "for epoch in range(contrastive_epochs):\n",
        "    model.train()  # Set model to training mode\n",
        "    total_train_loss = 0\n",
        "\n",
        "    # Training\n",
        "    for images, labels in train_loader:\n",
        "        images, labels = images.to(device), labels.to(device)\n",
        "        optimizer.zero_grad()\n",
        "        outputs = model(images)\n",
        "        loss = contrastive_loss_function(outputs, labels)\n",
        "        loss.backward()\n",
        "        optimizer.step()\n",
        "        total_train_loss += loss.item()\n",
        "        # Log batch loss\n",
        "        wandb.log({'contrastive_train_loss': loss.item()})\n",
        "\n",
        "    # Calculate average losses\n",
        "    avg_train_loss = total_train_loss / train_steps\n",
        "    train_losses.append(avg_train_loss)\n",
        "\n",
        "    # Log average loss to wandb\n",
        "    wandb.log({'epoch': epoch, 'contrastive_avg_train_loss': avg_train_loss})\n",
        "\n",
        "    # Print training progress\n",
        "    print(f'Contrastive Epoch [{epoch+1}/{contrastive_epochs}], Train Loss: {avg_train_loss:.4f}')\n",
        "\n",
        "# Transition to Cross-Entropy Loss training\n",
        "wandb.log({'phase': 'cross_entropy_loss_training'})\n",
        "\n",
        "# Training loop for Cross-Entropy Loss\n",
        "for epoch in range(cross_entropy_epochs):\n",
        "    model.train()  # Set model to training mode\n",
        "    total_train_loss = 0\n",
        "    total_valid_loss = 0\n",
        "\n",
        "    # Training\n",
        "    for images, labels in train_loader:\n",
        "        images, labels = images.to(device), labels.to(device)\n",
        "        optimizer.zero_grad()\n",
        "        outputs = model(images)\n",
        "        loss = cross_entropy_loss_function(outputs, labels)\n",
        "        loss.backward()\n",
        "        optimizer.step()\n",
        "        total_train_loss += loss.item()\n",
        "        # Log batch loss\n",
        "        wandb.log({'cross_entropy_train_loss': loss.item()})\n",
        "\n",
        "    # Validation\n",
        "    model.eval()  # Set model to evaluate mode\n",
        "    with torch.no_grad():\n",
        "        for images, labels in valid_loader:\n",
        "            images, labels = images.to(device), labels.to(device)\n",
        "            outputs = model(images)\n",
        "            loss = cross_entropy_loss_function(outputs, labels)\n",
        "            total_valid_loss += loss.item()\n",
        "            # Log batch validation loss\n",
        "            wandb.log({'cross_entropy_valid_loss': loss.item()})\n",
        "\n",
        "    # Calculate average losses\n",
        "    avg_train_loss = total_train_loss / train_steps\n",
        "    avg_valid_loss = total_valid_loss / valid_steps\n",
        "    train_losses.append(avg_train_loss)\n",
        "    valid_losses.append(avg_valid_loss)\n",
        "\n",
        "    # Log average losses to wandb\n",
        "    wandb.log({'epoch': epoch + contrastive_epochs,  # offset by the number of contrastive epochs\n",
        "               'cross_entropy_avg_train_loss': avg_train_loss,\n",
        "               'cross_entropy_avg_valid_loss': avg_valid_loss})\n",
        "\n",
        "    # Print training and validation progress\n",
        "    print(f'Cross-Entropy Epoch [{epoch+1}/{cross_entropy_epochs}], Train Loss: {avg_train_loss:.4f}, Valid Loss: {avg_valid_loss:.4f}')"
      ]
    },
    {
      "cell_type": "markdown",
      "metadata": {
        "id": "4gTWeCsUqcVK"
      },
      "source": [
        "# Visualizing Loss and Accuracy Plot for Train & Fine-Tuning"
      ]
    },
    {
      "cell_type": "code",
      "execution_count": 30,
      "metadata": {
        "colab": {
          "base_uri": "https://localhost:8080/",
          "height": 487
        },
        "id": "r4dQ9l8NqcVK",
        "outputId": "4e4008a2-ca4f-4c6a-cf46-c2c6bec13e8a"
      },
      "outputs": [
        {
          "output_type": "display_data",
          "data": {
            "text/plain": [
              "<Figure size 1000x500 with 1 Axes>"
            ],
            "image/png": "[encoded data removed]"
          },
          "metadata": {}
        }
      ],
      "source": [
        "plt.figure(figsize=(10,5))\n",
        "plt.title(\"Training and Validation Loss\")\n",
        "plt.plot(train_losses,label=\"train\")\n",
        "plt.plot(valid_losses,label=\"validation\")\n",
        "plt.xlabel(\"iterations\")\n",
        "plt.ylabel(\"Loss\")\n",
        "plt.legend()\n",
        "plt.show()"
      ]
    },
    {
      "cell_type": "markdown",
      "metadata": {
        "id": "x8BvKayvqcVK"
      },
      "source": [
        "# Evaluate Fine-Tuned Model\n",
        "In this cell, we evaluate the fine-tuned model on the test dataset using our classification metrics."
      ]
    },
    {
      "cell_type": "code",
      "execution_count": 31,
      "metadata": {
        "colab": {
          "base_uri": "https://localhost:8080/"
        },
        "id": "P-q2aat7qcVK",
        "outputId": "1ab92cb5-e956-4128-9973-0122eed536c7"
      },
      "outputs": [
        {
          "output_type": "stream",
          "name": "stdout",
          "text": [
            "Accuracy: 0.8143, Precision: 0.8074, Recall: 0.8143, F1-Score: 0.8057\n"
          ]
        }
      ],
      "source": [
        "model.eval()\n",
        "y_true = []\n",
        "y_pred = []\n",
        "\n",
        "with torch.no_grad():\n",
        "    for images, labels in test_loader:\n",
        "        images, labels = images.to(device), labels.to(device)\n",
        "        outputs = model(images)\n",
        "        _, predicted = torch.max(outputs, 1)\n",
        "        y_true.extend(labels.cpu().numpy())\n",
        "        y_pred.extend(predicted.cpu().numpy())\n",
        "\n",
        "# Calculate metrics\n",
        "accuracy = accuracy_score(y_true, y_pred)\n",
        "precision = precision_score(y_true, y_pred, average='weighted')\n",
        "recall = recall_score(y_true, y_pred, average='weighted')\n",
        "f1 = f1_score(y_true, y_pred, average='weighted')\n",
        "\n",
        "# Log metrics to wandb\n",
        "wandb.log({\n",
        "    'test_accuracy': accuracy,\n",
        "    'test_precision': precision,\n",
        "    'test_recall': recall,\n",
        "    'test_f1_score': f1\n",
        "})\n",
        "\n",
        "print(f'Accuracy: {accuracy:.4f}, Precision: {precision:.4f}, Recall: {recall:.4f}, F1-Score: {f1:.4f}')"
      ]
    },
    {
      "cell_type": "code",
      "execution_count": 32,
      "metadata": {
        "id": "is3THyXXqcVK"
      },
      "outputs": [],
      "source": [
        "# Finish the wandb run after evaluation\n",
        "wandb.finish()"
      ]
    }
  ],
  "metadata": {
    "kernelspec": {
      "display_name": "Python 3",
      "name": "python3"
    },
    "language_info": {
      "codemirror_mode": {
        "name": "ipython",
        "version": 3
      },
      "file_extension": ".py",
      "mimetype": "text/x-python",
      "name": "python",
      "nbconvert_exporter": "python",
      "pygments_lexer": "ipython3",
      "version": "3.9.6"
    },
    "colab": {
      "provenance": [],
      "gpuType": "T4"
    },
    "accelerator": "GPU"
  },
  "nbformat": 4,
  "nbformat_minor": 0
}